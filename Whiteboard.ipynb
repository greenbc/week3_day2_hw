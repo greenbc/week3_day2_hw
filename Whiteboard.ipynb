{
 "cells": [
  {
   "cell_type": "markdown",
   "metadata": {},
   "source": [
    "Create a function that given a string as a parameter of upper/lower case letters and empty space characters (\" \"), return the length of the last word. Meaning, the word that appears far most to the right if we loop through the words.\n",
    "Example Input: \"Hello World\"\n",
    "Example Output: 5\n",
    "Example Input: \"Today is Tuesday\"\n",
    "Example Output: 7"
   ]
  },
  {
   "cell_type": "code",
   "execution_count": 1,
   "metadata": {},
   "outputs": [
    {
     "name": "stdout",
     "output_type": "stream",
     "text": [
      "5\n",
      "7\n"
     ]
    }
   ],
   "source": [
    "def lastWord(string):\n",
    "    split = string.split(\" \")\n",
    "    result = len(split[-1])\n",
    "    return result\n",
    "\n",
    "print(lastWord(\"Hello World\"))\n",
    "\n",
    "print(lastWord(\"Today is Tuesday\"))"
   ]
  }
 ],
 "metadata": {
  "kernelspec": {
   "display_name": "Python 3",
   "language": "python",
   "name": "python3"
  },
  "language_info": {
   "codemirror_mode": {
    "name": "ipython",
    "version": 3
   },
   "file_extension": ".py",
   "mimetype": "text/x-python",
   "name": "python",
   "nbconvert_exporter": "python",
   "pygments_lexer": "ipython3",
   "version": "3.7.1"
  }
 },
 "nbformat": 4,
 "nbformat_minor": 2
}
